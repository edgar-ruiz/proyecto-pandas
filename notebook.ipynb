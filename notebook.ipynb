{
 "cells": [
  {
   "cell_type": "markdown",
   "id": "operating-ownership",
   "metadata": {},
   "source": [
    "## 1. Introducción\n",
    "<p><a href=\"https://commons.wikimedia.org/wiki/File:Tux.svg\">\n",
    "<img style=\"float: right;margin:5px 20px 5px 1px\" width=\"150px\" src=\"https://assets.datacamp.com/production/project_111/img/tux.png\" alt=\"Tux - the Linux mascot\">\n",
    "</a></p>\n",
    "<p>Existen muchos repositorios para el control de versiones de tus códigos. Tal vez has escuchado acerca de CVS, Subversion o GitHub. En ellos se puede llevar el registro de cada cambio, incluyendo quién lo hizo, en qué momento, así como algunas anotaciones sobre las intenciones del cambio.</p>\n",
    "<p>En este proyecto analizaremos la evolución de un código de software libre muy famoso, &ndash; el kernel de Linux. Este código es el nucleo de algunas distribuciones de Linux como Debian, Ubuntu o CentOS. En la base de datos que analizaremos, podemos observar su desarrollo durante casi 13 años (de 2005 a 2017) y también </p>\n",
    "<ul>\n",
    "<li>identificar l@s 10 usuari@s con mayor número de contribuciones (modificaciones)</li>\n",
    "<li>visualizar las modificaciones a lo largo de los años.</li>\n",
    "</ul>"
   ]
  },
  {
   "cell_type": "code",
   "execution_count": null,
   "id": "apart-flesh",
   "metadata": {},
   "outputs": [],
   "source": [
    "# Carga el módulo de pandas como 'pd'\n",
    "...\n",
    "\n",
    "# Importa la base que se encuentra en \"datasets/git_log_excerpt.csv\"\n",
    "# Esta base, es una muestra de la base completa que usaremos. Revísala con .head()\n"
    "...\n",
    "\n"
   ]
  },
  {
   "cell_type": "markdown",
   "id": "attached-watershed",
   "metadata": {},
   "source": [
    "## 2. Conociendo las bases de datos\n",
    "<p>Esta base de datos fue codificada en <code>latin-1</code> y guardada en un archivo CSV sin encabezado. En este archivo cada fila es una modificación al código (o <code>commit</code>, en lenguaje de programación), con las siguientes variables:</p>\n",
    "<ul>\n",
    "<li><code>timestamp</code>: variable en segundos transcurridos desde 1970-01-01 00:00:00</li>\n",
    "<li><code>author</code>: variable de quien hizo el <code>commit</code>.</li>\n",
    "</ul>\n",
    "<p>Las columnas en este archivo se dividen por el símbolo<code>#</code>. La base de datos completa se encuentra en el archivo<code>datasets/git_log.gz</code> . El formato <code>gz</code> es un archivo <code>csv</code> comprimido, por lo que puedes importarlo igual que un <code>csv</code>.</p>"
   ]
  },
  {
   "cell_type": "code",
   "execution_count": null,
   "id": "unnecessary-commander",
   "metadata": {},
   "outputs": [],
   "source": [
    "# Lee la base de datos\n",
    "git_log = pd.read_csv(\n",
    "    \"datasets/git_log.gz\",\n",
    "    sep=\"...\",\n",
    "    encoding=\"...\",\n",
    "    header=None,\n",
    "    names=[\"...\", \"...\"]\n",
    ")\n",
    "\n",
    "# Imprime las primeras 5 filas de git_log\n",
    "..."
   ]
  },
  {
   "cell_type": "markdown",
   "id": "protective-woman",
   "metadata": {},
   "source": [
    "## 3. Obten un panorama general\n",
    "<p>La base de datos tiene información de cada modificación (o <code>commit</code>) que se ha realizado al kernel de Linux durante 13 años. Primero observaremos el número de personas que hicieron alguna modificación, así como el número de <code>commits</code>.</p>\n",
    "<p>Puedes identificar el número de observaciones de un <code>DataFrame</code> con la función <code>len()</code>. También recuerda que puedes utilizar los métodos <code>.dropna()</code> y <code>.unique()</code> en las variables para eliminar los missing values y para identificar los valores únicos que tiene.</p>"
   ]
  },
  {
   "cell_type": "code",
   "execution_count": null,
   "id": "critical-smile",
   "metadata": {},
   "outputs": [],
   "source": [
    "# Calcula el número de commits\n",
    "num_commits = ...\n",
    "\n",
    "# Calcula el número de personas que hicieron commits\n",
    "num_usr = ...\n",
    "\n",
    "# printing out the results\n",
    "print(\"%s personas realizaron %s commits.\" % (num_usr, num_commits))"
   ]
  },
  {
   "cell_type": "markdown",
   "id": "expanded-invite",
   "metadata": {},
   "source": [
    "## 4. Identifica el top 10\n",
    "<p>Hay algunas personas que han hecho muchas contribuciones al kernel. Analicemos el top 10 de personas que han contribuido con más cambios.</p>"
   ]
  },
  {
   "cell_type": "code",
   "execution_count": null,
   "id": "superb-awareness",
   "metadata": {},
   "outputs": [],
   "source": [
    "# Extrae los 10 usuarios con más cambios\n",
    "top_10_usr = ...\n",
    "\n",
    "# Imprime el resultado\n",
    "..."
   ]
  },
  {
   "cell_type": "markdown",
   "id": "purple-reform",
   "metadata": {},
   "source": [
    "## 5. Modifica la variable de tiempo\n",
    "<p>En nuestro análisis nos gustaría visualizar los cambios a lo largo del tiempo. Para eso, utilizaremos la información en la varaible <code>timestamp</code>.</p>\n",
    "<p>En la función <code>to_datetime</code> puedes introducir un argumento <code>unit=\"s\"</code> para definir que la unidad de la variable es en segundos.</p>"
   ]
  },
  {
   "cell_type": "code",
   "execution_count": null,
   "id": "frank-series",
   "metadata": {},
   "outputs": [],
   "source": [
    "# Convierte la variable timestamp a un tipo fecha\n",
    "git_log['timestamp'] = ...\n",
    "\n",
    "# Utiliza el método describe para observar la variable timestamp\n",
    "...\n"
   ]
  },
  {
   "cell_type": "markdown",
   "id": "general-agent",
   "metadata": {},
   "source": [
    "## 6. Filtrando la base \n",
    "<p>Como pudimos ver, algunas personas tenían incorrectamente establecida la fecha de sus sistema operativo, por lo que tenemos que filtar la base para quedarnos únicamente con los registros de 2005 a 2017.</p>"
   ]
  },
  {
   "cell_type": "code",
   "execution_count": null,
   "id": "lyric-utility",
   "metadata": {},
   "outputs": [],
   "source": [
    "# Crea con pandas una fecha que se establezca en el año 2005\n",
    "primero = ...\n",
    "\n",
    "# Crea con pandas una fecha que se establezca en el año 2017\n",
    "ultimo = ...\n",
    "\n",
    "# filtra la base git_log para quedarte sólo con las variables\n",
    "# que tengan en timestamp una variable entre las dos fechas de \n",
    "# las instrucciones anteriores\n",
    "corregido_log = ...\n",
    "\n",
    "# Utiliza describe en timestamp de la base corregida\n",
    "..."
   ]
  },
  {
   "cell_type": "markdown",
   "id": "informative-greenhouse",
   "metadata": {},
   "source": [
    "## 7. Agrupa los commits por año\n",
    "<p>Para analizar lo que ha pasado a lo largo del tiempo, tenemos que agrupar los <code>commits</code> por año. Házlo con el módulo <code>datetime</code>.</p>"
   ]
  },
  {
   "cell_type": "code",
   "execution_count": null,
   "id": "moved-think",
   "metadata": {},
   "outputs": [],
   "source": [
    "# Importa el módulo datetime como date\n",
    "...\n",
    "\n",
    "# Agrupa los commits por año\n",
    "# Pista: crea una variable con unos y súmala al agrupar por añ\n",
    "commit_x_anio = ..."
   ]
  },
  {
   "cell_type": "markdown",
   "id": "governing-parish",
   "metadata": {},
   "source": [
    "## 8. ¡A graficar!\n",
    "<p>Aunque veremos la siguiente semana los métodos de graficación, te dejamos un avance de lo sencillo que es. Sólo tienes que correr la siguiente parte del código.</p>"
   ]
  },
  {
   "cell_type": "code",
   "execution_count": null,
   "id": "entire-madrid",
   "metadata": {},
   "outputs": [],
   "source": [
    "%matplotlib inline\n",
    "\n",
    "# Esta línea grafíca la serie\n",
    "commit_x_anio.plot(kind='bar', title=\"Commits por año (Linux kernel)\", legend=False)"
   ]
  }
 ],
 "metadata": {
  "kernelspec": {
   "display_name": "Python 3",
   "language": "python",
   "name": "python3"
  },
  "language_info": {
   "codemirror_mode": {
    "name": "ipython",
    "version": 3
   },
   "file_extension": ".py",
   "mimetype": "text/x-python",
   "name": "python",
   "nbconvert_exporter": "python",
   "pygments_lexer": "ipython3",
   "version": "3.7.10"
  }
 },
 "nbformat": 4,
 "nbformat_minor": 5
}
